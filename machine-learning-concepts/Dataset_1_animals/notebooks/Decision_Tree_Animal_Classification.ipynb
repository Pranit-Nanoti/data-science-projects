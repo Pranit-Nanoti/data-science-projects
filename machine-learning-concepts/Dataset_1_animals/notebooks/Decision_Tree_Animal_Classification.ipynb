{
 "cells": [
  {
   "cell_type": "markdown",
   "metadata": {},
   "source": [
    "# Classification and Regression Trees (CART)"
   ]
  },
  {
   "cell_type": "code",
   "execution_count": 1,
   "metadata": {},
   "outputs": [
    {
     "name": "stderr",
     "output_type": "stream",
     "text": [
      "C:\\Users\\prani\\AppData\\Local\\Temp\\ipykernel_19932\\841749719.py:3: DeprecationWarning: \n",
      "Pyarrow will become a required dependency of pandas in the next major release of pandas (pandas 3.0),\n",
      "(to allow more performant data types, such as the Arrow string type, and better interoperability with other libraries)\n",
      "but was not found to be installed on your system.\n",
      "If this would cause problems for you,\n",
      "please provide us feedback at https://github.com/pandas-dev/pandas/issues/54466\n",
      "        \n",
      "  import pandas as pd\n"
     ]
    }
   ],
   "source": [
    "# Imports:\n",
    "\n",
    "import pandas as pd\n",
    "import numpy as np\n",
    "import seaborn as sns\n",
    "import matplotlib.pyplot as plt\n",
    "\n",
    "from sklearn.model_selection import train_test_split\n",
    "from sklearn.tree import DecisionTreeClassifier\n",
    "from sklearn.tree import plot_tree\n",
    "from sklearn.metrics import ConfusionMatrixDisplay"
   ]
  },
  {
   "cell_type": "markdown",
   "metadata": {},
   "source": [
    "---\n",
    "## ML Challenges - Model Underfitting vs Overfitting:\n",
    "\n",
    "There are two main <font color=#14F278>**Machine Learning Challenges**</font>:\n",
    "- **\"Bad\" Data**:\n",
    "    - insufficient quantity of training data\n",
    "    - non-representative training set\n",
    "    - poor quality of data\n",
    "    - irrelevant features/predictors\n",
    "- **\"Bad\" Model**:\n",
    "    - <font color=#14F278>**Overfitting**</font> - when the model <font color=#14F278>**'memorises'**</font> the training data and <font color=#14F278>**fails to generalise**</font> on unseen data\n",
    "    - <font color=#14F278>**Underfitting**</font> - when the model is <font color=#14F278>**too simple**</font> and <font color=#14F278>**fails to learn**</font> the underlying logic, structure and intricacies of the data\n",
    "\n",
    "---\n",
    "### Model Bias and Variance:\n",
    "\n",
    "The <font color=#14F278>**Bias of a Model**</font> measures how different the model predictions are, on average, compared to the true values on a given dataset.\n",
    "\\\n",
    "The <font color=#14F278>**Variance of a Model**</font> measures how sensitive the model predictions are to small variations in the input data:\n",
    "- Suppose we have an observation with a known true target value:\n",
    "- Suppose we take the model and train it multiple times, each time on different training set\n",
    "- Each trained model produces a prediction for the target value\n",
    "- We can <font color=#14F278>**compare the predictions to the true value**</font> to see how far off they are from the actual label - this measures the <font color=#14F278>**model bias**</font>\n",
    "- We can also <font color=#14F278>**compare the predictions to one another**</font> to see how clustered or dispersed they are from one another - this measures the <font color=#14F278>**model variance**</font>\n",
    "- A model with <font color=#14F278>**high bias**</font> indicates <font color=#14F278>**Underfitting**</font> - the model predictions are far away from the true value - the model fails to correctly capture the relationship between features and label\n",
    "- A model with <font color=#14F278>**high variance**</font> indicates <font color=#14F278>**Overfitting**</font> - the model predictions are way too sensitive to changes in the training data - the model thus fails to generalise - a slight change to the training data can lead to a significant difference in the predicted value\n",
    "- <font color=#FF8181>**Note: There is a trade-off between Bias and Variance!**</font>"
   ]
  },
  {
   "cell_type": "markdown",
   "metadata": {},
   "source": [
    "---\n",
    "## Decision Trees:\n",
    "\n",
    "A <font color=#14F278>**Decision Tree**</font> is a <font color=#14F278>**non-linear model**</font> where the input data is iteratively split into branches in a top-down tree-like structure, <font color=#14F278>**based on some conditions**</font>. **Decision Trees** can be applied both to <font color=#14F278>**Regressions**</font> and <font color=#14F278>**Classifications**</font>. \n",
    "\n",
    "---\n",
    "### CART - Classification and Regression Trees:\n",
    "<font color=#14F278>**Classification and Regression Trees (CART)**</font> work by <font color=#14F278>**partitioning**</font> the feature space into <font color=#14F278>**disjoint regions**</font>, based on a <font color=#14F278>**binary condition**</font>. Each region is then assigned a <font color=#14F278>**constant prediction**</font>:\n",
    "- Suppose we have 2 features in our feature space - $x_{1}$ and $x_{2}$:\n",
    "- We start splitting the feature space based on some binary conditions - e.g.,  $x_{1}<=5$, or $x_{2}>2$\n",
    "- The optimal split will result in a number of disjoin regions - here, there are 5 regions\n",
    "- Once the optimal split is produced, each region is associated with a <font color=#14F278>**constant prediction**</font> - e.g. region $R_{m}$ is assigned prediction value $c_{m}$ \n",
    "\n",
    "<center>\n",
    "    <div>\n",
    "        <img src=\"machine-learning-concepts/Dataset_1_animals/images/CART_split.JPG\"/>\n",
    "    </div>\n",
    "</center>\n",
    "\n",
    "Some terminology:\n",
    "- <font color=#14F278>**Root Node**</font>: NO *parent* node, condition results in 2 *children* nodes\n",
    "- <font color=#14F278>**Internal Node**</font>: one *parent* node, condition results in 2 *children* nodes\n",
    "- <font color=#14F278>**Leaf Node**</font>: one *parent* node, NO *children* nodes - associated with a *prediction*\n",
    "\n",
    "\n",
    "As the image suggests, <font color=#14F278>**CART**</font> work by splitting the *feature space* into disjoin regions, based on some rules - e.g. $x_{1}<=5$, or $x_{2}>2$. Once the most optimal split is performed, all data points in each region are assigned a **constant prediction** - e.g. region $R_{m}$ is assigned prediction value $c_{m}$:\n",
    "\n",
    "\n",
    "---\n",
    "### Regression Trees - How Do They Work?\n",
    "\n",
    "<center>\n",
    "    <div>\n",
    "        <img src=\"machine-learning-concepts/Dataset_1_animals/images/Regression_Trees.JPG\"/>\n",
    "    </div>\n",
    "</center>\n",
    "\n",
    "- We start with our **training data**, which consists of features and **known real-valued labels**\n",
    "- We perform an <font color=#14F278>**Optimal Split**</font> of the feature space, which defines the <font color=#14F278>**disjoint regions**</font>\n",
    "- Each region $R_{m}$ is assigned a constant prediction $c_{m}=\\frac{1}{N_{m}}\\sum_{i| x_{i} \\in R_{m}}y_{i}$\n",
    "- Intuitively, the prediction $c_{m}$ for region $R_{m}$ is the <font color=#14F278>**average of the labels for all training set observations in that region**</font>\n",
    "- When the model is used on a new unseen observation (test data), the observation is placed within one of the regions (based on its features), and assigned the constant prediction of that region\n",
    "\n",
    "---\n",
    "### Classification Trees - How Do They Work?\n",
    "\n",
    "<center>\n",
    "    <div>\n",
    "        <img src=\"machine-learning-concepts/Dataset_1_animals/images/Classification_Trees.JPG\"/>\n",
    "    </div>\n",
    "</center>\n",
    "\n",
    "- We start with our **training data**, which consists of features and **known categorical labels**\n",
    "- We perform an <font color=#14F278>**Optimal Split**</font> of the feature space, which defines the <font color=#14F278>**disjoint regions**</font>\n",
    "- Each region $R_{m}$ is assigned a constant prediction $c_{m}$ which is the <font color=#14F278>**dominating class in the region**</font>\n",
    "- When the model is used on a new unseen observation (test data), the observation is placed within one of the regions (based on its features), and assigned the constant prediction (class) of that region\n",
    "\n",
    "---\n",
    "### Recursive Binary Splitting:\n",
    "\n",
    "**Recursive Binary Splitting** is a **top-down, greedy algorithm**, used to grow Decision Trees:\n",
    "- The algorithm is performed iteratively on the tree\n",
    "- On each iteration, the algorithm solves for 2 components - <font color=#14F278>**the optimal feature**</font>, on which to perform the split, and the <font color=#14F278>**optimal feature cut-off value**</font> for the split - e.g., on the first split, the optimal feature to split by is $x_{1}$ and the cut-off value for the split is $x_{1} =5$\n",
    "- Recursive Binary Splitting is <font color=#14F278>**greedy**</font> as it is <font color=#14F278>**not forward-looking**</font> - each split is optimised in isolation to the splits that come after (further down the tree)\n",
    "- Each split results in <font color=#14F278>**two regions**</font>, associated with a constant prediction\n",
    "- For <font color=#14F278>**Regression problems**</font>, the optimal split results in the <font color=#14F278>**Lowest Sum of Squared Losses**</font> across the two regions\n",
    "- For <font color=#14F278>**Classification problems**</font>, the optimal split results in the <font color=#14F278>**Highest Information Gain**</font> across the two regions \n",
    "\n",
    "---\n",
    "#### Cross Entropy and Gini Index:\n",
    "**Recursive Binary Splitting** can involve calculating the **Information Gain** of a split for Classification:\n",
    "- Suppose that $\\hat{p_{mk}}$ is the <font color=#14F278>**proportion of observations**</font> in region $R_{m}$ from class $k$:\n",
    "- The split with the <font color=#14F278>**highest information gain**</font> is the split that results in the <font color=#14F278>**lowest node impurity**</font> in the two regions of the split\n",
    "- <font color=#14F278>**Node Impurity**</font> is measured via one of the below metrics:\n",
    "\n",
    "$$\n",
    "Cross Entropy = - \\sum_{k=1}^{K}\\hat{p_{mk}}log(\\hat{p_{mk}})\n",
    "$$\n",
    "\n",
    "$$\n",
    "Gini Index = \\sum_{k=1}^{K}\\hat{p_{mk}}(1-\\hat{p_{mk}})\n",
    "$$\n",
    "\n",
    "- The two measures produce similar results so let's focus on the <font color=#14F278>**Gini Index**</font>\n",
    "- The <font color=#14F278>**Gini Index**</font> intuitively measures the <font color=#14F278>**purity of classification**</font> in each region\n",
    "- For 2-class problem, it varies from **0 to 0.5** with **0** indicating perfect node purity (all observations belong to the same class) and **0.5** indicating dead-heath (observations are equally distributed across classes)\n",
    "- <font color=#14F278>**To maximise information gain, we want to minimise node impurity, i.e., we want the split to result in regions with a clear dominating class**</font>\n"
   ]
  },
  {
   "cell_type": "code",
   "execution_count": 2,
   "metadata": {},
   "outputs": [
    {
     "data": {
      "image/png": "[encoded data removed]",
      "text/plain": [
       "<Figure size 432x288 with 1 Axes>"
      ]
     },
     "metadata": {
      "needs_background": "light"
     },
     "output_type": "display_data"
    }
   ],
   "source": [
    "# How Gini Index Measures Node Impurity\n",
    "# Example for 2 Classes: \n",
    "    # Class 1 with proportion P1\n",
    "    # vs\n",
    "    # Class 2 with proportion P2 = 1 - P1\n",
    "\n",
    "# Create a range of possible values for P1 - it ranges from 0 to 1\n",
    "p1 = np.linspace(0,1, 100)\n",
    "\n",
    "# Define a Gini Index Function\n",
    "def gini(x):\n",
    "    return 2*x*(1-x)\n",
    "\n",
    "# Calculate the Gini Index for each possible pair of P1 and P2 values\n",
    "gini_index = []\n",
    "for i in p1:\n",
    "    gini_index.append(gini(i))\n",
    "\n",
    "# Plot the Gini Index against P1 to see how Node Impurity peaks when we have 50-50% proportion across classes\n",
    "g = sns.lineplot(x = p1, y= gini_index, color = '#67B587')\n",
    "g.set_title('Gini Index for 2 Classes')\n",
    "g.set(xlabel = 'Proportion of Class 1', ylabel = 'Regional Gini Index')\n",
    "sns.despine()\n",
    "plt.show()"
   ]
  },
  {
   "cell_type": "markdown",
   "metadata": {},
   "source": [
    "---\n",
    "## Decision Tree - Animal Classification:\n",
    "Using a **Decision Tree** to perform **Classification** on the Animal dataset, stored in `animals.csv` in the **data** folder:\n",
    "- The dataset containts 144 observations across different types of animals\n",
    "- Each observation has information such as **hair, feathers, legs, milk**, etc. which will serve as **features**\n",
    "- Each observation has a **class type** which is the target we want to predict"
   ]
  },
  {
   "cell_type": "code",
   "execution_count": null,
   "metadata": {},
   "outputs": [],
   "source": [
    "# Load data\n",
    "\n",
    "filepath = r'../data/animals.csv'\n",
    "df = pd.read_csv(filepath)\n",
    "df.head()"
   ]
  },
  {
   "cell_type": "code",
   "execution_count": null,
   "metadata": {},
   "outputs": [],
   "source": [
    "# Count of Class Type of the animal:\n",
    "\n",
    "df['class_type'].value_counts()"
   ]
  },
  {
   "cell_type": "markdown",
   "metadata": {},
   "source": [
    "### Training and Plotting a Decision Tree\n",
    "\n",
    "- To train a Decision Tree, use the `DecisionTreeClassifier()` class from `sklearn.tree` (Note - for Regression, use the `DecisionTreeRegressor()` class)\n",
    "- Perform a train-test split on the data with <font color=#14F278>**stratified sampling**</font> - this is because we currenly have an <font color=#14F278>**imbalanced class representation**</font> - 41 mammal observations, 20 fish, etc. Stratification will preserve the original proportions in the test and train data (to the extent to which it is possible)\n",
    "- Create a `DecisionTreeClassifier()` model with a <font color=#14F278>**maximum depth**</font> of 3 - maximum depth is a <font color=#14F278>**Hyperparameter**</font>, which controls how much the tree grows.\n",
    "- Fit the model to the training data\n",
    "- <font color=#14F278>**Plot the Decision Tree**</font> via the `plot_tree()` function from `sklearn.tree` "
   ]
  },
  {
   "cell_type": "code",
   "execution_count": null,
   "metadata": {},
   "outputs": [],
   "source": [
    "# Train-Test Split and Feature Selection\n",
    "X = df.drop(columns = ['animal_name', 'class_type'])\n",
    "y = df['class_type']\n",
    "X_train, X_test, y_train, y_test = train_test_split(X,y, test_size=0.2, random_state=123, stratify=y)\n",
    "\n",
    "# Create a Decision Tree Classifier Model and fit to train set\n",
    "model = DecisionTreeClassifier(max_depth=3)\n",
    "model.fit(X_train, y_train)"
   ]
  },
  {
   "cell_type": "code",
   "execution_count": null,
   "metadata": {},
   "outputs": [],
   "source": [
    "# To visualise the tree, use the plot_tree function\n",
    "fig, ax = plt.subplots(figsize = (16,16))\n",
    "plot_tree(model, feature_names = model.feature_names_in_, class_names = model.classes_)\n",
    "plt.show()"
   ]
  },
  {
   "cell_type": "code",
   "execution_count": null,
   "metadata": {},
   "outputs": [],
   "source": [
    "# Finally, test model by making predictions on the test data\n",
    "y_pred = model.predict(X_test)\n",
    "\n",
    "# Visualise Confusion Matrix to assess how many false predictions your model made\n",
    "fig, ax = plt.subplots(figsize = (12,12))\n",
    "g=ConfusionMatrixDisplay.from_predictions( y_test, y_pred, ax = ax, cmap = 'BuGn')"
   ]
  },
  {
   "cell_type": "markdown",
   "metadata": {},
   "source": [
    "# Hyperparameter Tuning\n",
    "---\n",
    "\n",
    "**Decision Trees** are Machine Learning Models with \n",
    "**Hyperparameters** - they are like tuning knobs for the model, to which we assign values before training and evaluating the model."
   ]
  },
  {
   "cell_type": "markdown",
   "metadata": {},
   "source": [
    "---\n",
    "## Hyperparameters - Definition:\n",
    "\n",
    "A **Hyperparameter** is a parameter, whose value is used to <font color=#14F278>**control the learning process of a model**</font>. Hyperparameters are like tuning knobs for a model - we set them to a particular value in advance, then train and evaluate the model.\n",
    "- For example, <font color=#14F278>**KNN**</font> has 2 hyperparameters - <font color=#14F278>**K - number of neighbours**</font>, and <font color=#14F278>**p - distance norm**</font>.\n",
    "- Decision Trees have a number of hyperparameters, one of which is  <font color=#14F278>**maximum depth**</font>, controling how deep the tree grows  \n",
    "- Hyperparameters are ultimately used to ensure that the model is a good fit for the task - a good choice of Hyperparameters allows us to prevent ML Challenges such as **Overfitting** or **Underfitting a model**\n",
    "\n",
    "\n",
    "---\n",
    "### Decision Trees - Hyperparameters:\n",
    "**Decision Trees are prone to Overfitting**. If we keep applying **Recursive Binary Splitting** to a tree, eventually, each data point may **end up in its own leaf node/region**. This means that the model becomes too sensitive to little changes in the input data, resulting in a **High Variance** - hence overfitting the model. \n",
    "\n",
    "We can **control the complexity** of the tree via the following Hyperparameters:\n",
    "\n",
    "<center>\n",
    "    <div>\n",
    "        <img src=\"machine-learning-concepts/Dataset_1_animals/images/Hyperparameter_Def.JPG\"/>\n",
    "    </div>\n",
    "</center>\n",
    "\n",
    "In general, <font color=#FF8181>**decreasing the maximum**</font> of a hyperparameter, such as `max_depth`, or <font color=#FF8181>**increasing the minimum**</font> of a hyperparameter, such as `min_samples_leaf`, will <font color=#FF8181>**reduce the complexity of the model, hence the model variance**</font> and ultimately <font color=#FF8181>**prevent from Overfitting!**</font>"
   ]
  },
  {
   "cell_type": "markdown",
   "metadata": {},
   "source": [
    "---\n",
    "## Hyperparameter Tuning:\n",
    "---\n",
    "### Validation Sets:\n",
    "- Suppose we want to find the **best hyperparameters** for a particular ML problem.\n",
    "- So far, we looked at splitting our data into **train and test sets**.\n",
    "- If we use the training set to **'tune' hyperparameters** over and over again, and use the **test set** to evaluate which hyperparameter values perform best, we are essentially **using the test set as part of the model training process**!\n",
    "- This is undesirable, because the purpose of test data is to **emulate** testing the model on unseen data.\n",
    "- Instead, we can split our data into **three sets:**\n",
    "    - **Train**\n",
    "    - **Validation**\n",
    "    - **Test**\n",
    "\n",
    "---\n",
    "### K-Fold Cross Validation:\n",
    "\n",
    "- Instead of splitting the original training set into a single train and validation set, we can perform **a number of splits**:\n",
    "- Split the train set into <font color=#14F278>**K non-overlapping subsets of data**</font> - also called **folds**\n",
    "- Take <font color=#14F278>**k-1 folds**</font> to train your model on and use the remaining fold for **validation**\n",
    "- Repeat the above step <font color=#14F278>**k times**</font>, each time, leaving a new fold out for validation, and using the rest for training\n",
    "- At the end, **average the performance estimates** across **all k validation folds** for which typical values for k are **k=5** or **k=10**\n",
    "- **Note:** K-Fold CV is used for Hyperparameter tuning - each model, trained with this approach, has different hyperpatameter values. The end goal of k-Fold CV is to find the model with the optimal hyperparameter values!\n",
    "\n",
    "<center>\n",
    "    <div>\n",
    "        <img src=\"machine-learning-concepts/Dataset_1_animals/images/Kfold_CV_Method.JPG\"/>\n",
    "    </div>\n",
    "</center>\n"
   ]
  },
  {
   "cell_type": "markdown",
   "metadata": {},
   "source": [
    "\n",
    "---\n",
    "### Grid Search CV:\n",
    "- **Question: How do we pick the possible combinations of hyperparameter values to run through the K-Fold CV?**\n",
    "- **Answer: We can use a technique, called Grid Search CV**\n",
    "\n",
    "**Grid Search CV** is a popular approach of exploring different combinations of hyperparameter values, by creating a **Hyperparameter Grid**:\n",
    "\n",
    "<center>\n",
    "    <div>\n",
    "        <img src=\"machine-learning-concepts/Dataset_1_animals/images/Hyperparameter_Grid.JPG\"/>\n",
    "    </div>\n",
    "</center>\n",
    "\n",
    "- **Grid Search CV** is implemented via the `GridSearchCV()` in `sklearn.model_selection`\n",
    "- We create an instance of the class, passing the following arguments:\n",
    "    - `estimator` - assigned to the instance of the model we want to tune the hyperparameters for\n",
    "    - `param_grid` - assigned to a dictionary of list values, where the keys are the **hyperparameter names** and the list values contain the ranges of values we want to search from\n",
    "    - `cv` - the number of folds, used for the **Cross Validation** - e.g., `cv=5`\n",
    "- The instance of the `GridSearchCV()` class implements `fit()` and `predict()` methods, which we use in the standard ways, by passing our train and test datasets\n",
    "\n",
    "---\n",
    "### Grid Search CV - Example (using animals.csv):\n",
    "- Training a **Decision Tree Classifier** and tuning its hyperparameters with **Grid Search CV**\n",
    "- The focus will be on two of the hyperparameters - `max_depth` and `min_samples_leaf`\n"
   ]
  },
  {
   "cell_type": "code",
   "execution_count": null,
   "metadata": {},
   "outputs": [],
   "source": [
    "# Loading the data\n",
    "filepath = r'../data/animals.csv'\n",
    "df = pd.read_csv(filepath)\n",
    "df.head()"
   ]
  },
  {
   "cell_type": "code",
   "execution_count": null,
   "metadata": {},
   "outputs": [],
   "source": [
    "# Train-Test Split and Feature Selection\n",
    "X = df.drop(columns = ['animal_name', 'class_type'])\n",
    "y = df['class_type']\n",
    "X_train, X_test, y_train, y_test = train_test_split(X,y, test_size=0.2, random_state=123, stratify=y)\n",
    "\n",
    "# Initialise Decision Tree Classifier\n",
    "model = DecisionTreeClassifier()"
   ]
  },
  {
   "cell_type": "code",
   "execution_count": null,
   "metadata": {},
   "outputs": [],
   "source": [
    "# Import GridSearch CV from sklearn\n",
    "from sklearn.model_selection import GridSearchCV\n",
    "\n",
    "\n",
    "# Pass Ranges for Hyperparameters\n",
    "parameters = {'max_depth':        [2,3,4,5,6,7,8,9,10],\n",
    "              'min_samples_leaf': [5, 10, 20]}  \n",
    "\n",
    "# Initialise a Grid Search object\n",
    "# passing the decision tree estimator and the parameter grid values\n",
    "clf = GridSearchCV(estimator = model, param_grid = parameters, cv=5)\n",
    "\n",
    "# Fit the Grid Search object to the train data\n",
    "# At this stage, the model is learning the optimal hyperparameter values by performing the Grid Search\n",
    "clf.fit(X_train, y_train)\n",
    "\n",
    "# Once the model's hyperparameters are tuned, we can make predictions\n",
    "y_pred = clf.predict(X_test)"
   ]
  },
  {
   "cell_type": "markdown",
   "metadata": {},
   "source": [
    "- Apart from predicting, once the model is fit to the data, we can also **Optimal Hyperparameter Values**, found by the Grid Search CV\n",
    "- We can use the `best_estimator_.max_depth` or `best_estimator_.min_samples_leaf` attributes to find the optimal combination"
   ]
  },
  {
   "cell_type": "code",
   "execution_count": null,
   "metadata": {},
   "outputs": [],
   "source": [
    "# Retrieve the optimal hyperparamer values, found by Grid Search CV\n",
    "best_depth = clf.best_estimator_.max_depth\n",
    "best_min_samples = clf.best_estimator_.min_samples_leaf\n",
    "\n",
    "print(f'best estimator: depth {best_depth} and min_samples {best_min_samples}')"
   ]
  },
  {
   "cell_type": "markdown",
   "metadata": {},
   "source": [
    "- Lastly, proceed with the final model evaluation by using the test set\n",
    "- We can plot the **Confusion Matrix** or calculate the **Accuracy Score** of the model\n",
    "- Recall that, above,  we trained a Decision Tree Classifier with `max_depth=3`\n",
    "- This time, we tuned the Hyperparameters of the same model with `GridSearchCV`\n",
    "- Below is a quick example comparison between the Confusion Matrix <font color=#14F278>**before and after Hyperparameter Tuning:**</font>\n",
    "\n",
    "<center>\n",
    "    <div>\n",
    "        <img src=\"machine-learning-concepts/Dataset_1_animals/images/Hyperparameter_Tuning_Effects.JPG\"/>\n",
    "    </div>\n",
    "</center>"
   ]
  },
  {
   "cell_type": "code",
   "execution_count": null,
   "metadata": {},
   "outputs": [],
   "source": [
    "acc_score = accuracy_score(y_test, y_pred)\n",
    "print(f'Accuracy score is {acc_score}')\n",
    "\n",
    "# Visualise Confusion Matrix to assess how many false predictions your model made\n",
    "fig, ax = plt.subplots(figsize = (12,12))\n",
    "g=ConfusionMatrixDisplay.from_predictions( y_test, y_pred, ax = ax, cmap = 'BuGn')"
   ]
  },
  {
   "cell_type": "markdown",
   "metadata": {},
   "source": [
    "- Lastly, we can directly train a `DecisionTreeClassifier` with the optimal values for the hyperparameters\n",
    "- Plot the Decision Tree with `plot_tree` to see how the hyperparameter values controlled the depth of the tree and the number of samples in each leaf node"
   ]
  },
  {
   "cell_type": "code",
   "execution_count": null,
   "metadata": {},
   "outputs": [],
   "source": [
    "# Initialise Decision Tree Classifier\n",
    "model = DecisionTreeClassifier(max_depth = 6, min_samples_leaf=5 )\n",
    "\n",
    "model.fit(X_train, y_train)\n",
    "y_pred = model.predict(X_test)\n",
    "\n",
    "acc_score = accuracy_score(y_test, y_pred)\n",
    "print(f'Accuracy score is {acc_score}')\n",
    "\n",
    "fig, ax = plt.subplots(figsize = (16,16))\n",
    "plot_tree(model, feature_names = model.feature_names_in_, class_names = model.classes_)\n",
    "plt.show()"
   ]
  }
 ],
 "metadata": {
  "kernelspec": {
   "display_name": "Python 3",
   "language": "python",
   "name": "python3"
  },
  "language_info": {
   "codemirror_mode": {
    "name": "ipython",
    "version": 3
   },
   "file_extension": ".py",
   "mimetype": "text/x-python",
   "name": "python",
   "nbconvert_exporter": "python",
   "pygments_lexer": "ipython3",
   "version": "3.10.8"
  }
 },
 "nbformat": 4,
 "nbformat_minor": 2
}
