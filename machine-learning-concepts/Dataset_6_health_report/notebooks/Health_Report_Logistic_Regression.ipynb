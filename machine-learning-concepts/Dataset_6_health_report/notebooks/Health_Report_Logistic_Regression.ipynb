{
 "cells": [
  {
   "cell_type": "markdown",
   "metadata": {},
   "source": [
    "# Logistic Regression:\n",
    "---\n",
    "\n",
    " We can explore **Classification**in detail, specifically through the use of a technique called **Logistic Regression**, which, despite of its name, is an algorithm for **Binary Classification**.\n"
   ]
  },
  {
   "cell_type": "code",
   "execution_count": 35,
   "metadata": {},
   "outputs": [],
   "source": [
    "# Imports:\n",
    "import pandas as pd\n",
    "import numpy as np\n",
    "import seaborn as sns\n",
    "import matplotlib.pyplot as plt\n",
    "\n",
    "from sklearn.linear_model import LogisticRegression\n",
    "from sklearn.model_selection import train_test_split\n",
    "from sklearn.metrics import accuracy_score, precision_score, recall_score\n",
    "from sklearn.metrics import f1_score, ConfusionMatrixDisplay, roc_auc_score, roc_curve\n",
    "from sklearn.tree import DecisionTreeClassifier, plot_tree\n"
   ]
  },
  {
   "cell_type": "markdown",
   "metadata": {},
   "source": [
    "\n",
    "---\n",
    "## Classification - Deep Dive:\n",
    "**Classification**is a type of Supervised Machine Learning technique, used for predicting categorical target labels. Classifications can be *binary* or *multi-class*, which are dependant on the number of possible classes they can predict:\n",
    "- **Binary Classification** - 2 classes\n",
    "- **Multi-Class Classification** - more than 2 classes\n",
    "\n",
    "We focus on the following Classifiers:\n",
    "- **Logistic Regression**\n",
    "- **Decision Trees**\n",
    "- **Random Forest Classifiers**\n",
    "\n",
    "### Examples of Classification Problems:\n",
    "All Classification problems ultimately boil down predicting the probability of a certain observation falling under a given class. Consider the following examples:\n",
    "- Predicting the probability of a client getting a mortgage\n",
    "- Predicting the probability of a customer churning from a bank\n",
    "- Predicting the probability of a certain desease, given an individual's health metrics\n",
    "- Predicting the chance of getting a job after graduation\n",
    "\n",
    "\n",
    "### Linear Regression for Classification?\n",
    "- Suppose you have **Credit Score** data on existing mortgage customers\n",
    "- You decide to use this data to predict the chance of a new customer being approved for mortgage, given their credit score\n",
    "- This means that your predictions must be one of 2 possible values:\n",
    "    - **0** for Mortgage Rejected\n",
    "    - **1** for Mortgage Approved\n",
    "- Linear Regression Models result in *continuous numerical predictions* - e.g. *0.34, 0.96*\n",
    "- We can use these numbers as the *probability of mortgage approval* by assuming that everything above a given threshold (e.g., threshold = 0.5) means 'Mortgage Approved'\n",
    "- Linear Regression, however, can result in predictions *above 1* or *below 0*, which would make predictions **difficult to interpret**.\n",
    "\n",
    "<center>\n",
    "    <div>\n",
    "        <img src=\"./Images/Probability_Of_Mortgage_LinReg.JPG\"/>\n",
    "    </div>\n",
    "</center>\n",
    "\n",
    "---\n",
    "## Logistic Regression:\n",
    "**Logistic Regression**, despite the name, is a *linear* Machine Learning model for ***Binary Classification***:\n",
    "- It builds on the idea above, of *predicting the probability of a positive outcome*>\n",
    "- Mathematically, the produced prediction *$\\hat{y}$* is calculated as\n",
    "$$\n",
    "\\hat{y} = P(Y = 1| X = x)\n",
    "$$\n",
    "where:\n",
    "- $Y$ is the *binary response variable (target)*:\n",
    "    - 0 = negative outcome\n",
    "    - 1 = positive outcome\n",
    "- $P(Y=1|X=x)$ is the probability of a ositive outcome, given inputs **$x$**\n",
    "- Once the prediction is made, it is classified as either **0** or **1** based on a *probability threshold*, e.g. 0.5, but this can be subject to change \n",
    "\n",
    "---\n",
    "### Sigmoid Function:\n",
    "We can ensure that our prediction $\\hat{y}$ will range from 0 to 1 by using the ***Sigmoid Function***, which transforms the final prediction value $\\hat{y}$ such that $0 \\leq \\hat{y} \\leq 1$, so that it can be interpreted as probability. The Sigmoid Function is defined as the following:\n",
    "$$\n",
    "\\sigma(y) = sigmoid(y) = \\frac{1}{1 + e^{-y}}\n",
    "$$\n",
    "\n",
    "When performing a **Logistic Regression**, the optimal prediction has the following expression:\n",
    "$$\n",
    "\\hat{y} = sigmoid(\\beta_{0} + \\beta_{1}x_{1} + \\beta_{2}x_{2} + ... + + \\beta_{p}x_{p})\n",
    "$$\n",
    "\n",
    "- Since the **Sigmoid Function** always produces output in the range 0 to 1, the Logistic Regression prediction can be interpreted as *probability*\n",
    "- The *optimal coefficients* $\\beta_{0}, \\beta_{1}, \\dots, \\beta_{p}$ are calculated so that the ***average Log Loss*** on the training data is *minimised*.\n",
    "\n",
    "Logistic Regression is a Linear Model for Binary Classification. It assumes a linear relationship between the inputs (features) and the log-odds of the output. The Sigmoid function is the inverse function of the Log-Odds Function (also called Logit function), hence the name of the model."
   ]
  },
  {
   "cell_type": "code",
   "execution_count": 36,
   "metadata": {},
   "outputs": [
    {
     "data": {
      "image/png": "[encoded data removed]",
      "text/plain": [
       "<Figure size 432x288 with 1 Axes>"
      ]
     },
     "metadata": {
      "needs_background": "light"
     },
     "output_type": "display_data"
    }
   ],
   "source": [
    "# Visualising the shape of a Sigmoid Function:\n",
    "\n",
    "def sigmoid(x):\n",
    "    return 1/(1 + np.exp(-x))\n",
    "\n",
    "# Define a range of possible values for x\n",
    "# Iterate through x_axis and calculate the corresponding sigmoid(x)\n",
    "x_axis = np.linspace(-10,10)\n",
    "y_axis = []\n",
    "for x in x_axis:\n",
    "    y_axis.append(sigmoid(x))\n",
    "\n",
    "# Plot x_axis vs y_axis to see the S-shape of the Sigmoid Function\n",
    "g = sns.lineplot(x = x_axis, y= y_axis)\n",
    "g.set_title('Sigmoid Function')\n",
    "sns.despine()\n",
    "plt.show()"
   ]
  },
  {
   "cell_type": "markdown",
   "metadata": {},
   "source": [
    "---\n",
    "### Logistic Regression - Example:\n",
    "We can use Logistic Regression in many real life scenarios. For this case study, we use a dataset called `health_report.csv`. The dataset gives `Height` and `Weight` information about various individuals. In the following task, we can leverage the use of Logistic Regression to *predict the probabilty of being male (`IsMale = 1`) given `Height`:"
   ]
  },
  {
   "cell_type": "code",
   "execution_count": 37,
   "metadata": {},
   "outputs": [
    {
     "data": {
      "text/html": [
       "<div>\n",
       "<style scoped>\n",
       "    .dataframe tbody tr th:only-of-type {\n",
       "        vertical-align: middle;\n",
       "    }\n",
       "\n",
       "    .dataframe tbody tr th {\n",
       "        vertical-align: top;\n",
       "    }\n",
       "\n",
       "    .dataframe thead th {\n",
       "        text-align: right;\n",
       "    }\n",
       "</style>\n",
       "<table border=\"1\" class=\"dataframe\">\n",
       "  <thead>\n",
       "    <tr style=\"text-align: right;\">\n",
       "      <th></th>\n",
       "      <th>IsMale</th>\n",
       "      <th>Height</th>\n",
       "      <th>Weight</th>\n",
       "      <th>IsHealthy</th>\n",
       "    </tr>\n",
       "  </thead>\n",
       "  <tbody>\n",
       "    <tr>\n",
       "      <th>0</th>\n",
       "      <td>1</td>\n",
       "      <td>187.571423</td>\n",
       "      <td>109.819678</td>\n",
       "      <td>0</td>\n",
       "    </tr>\n",
       "    <tr>\n",
       "      <th>1</th>\n",
       "      <td>1</td>\n",
       "      <td>174.706036</td>\n",
       "      <td>73.688955</td>\n",
       "      <td>1</td>\n",
       "    </tr>\n",
       "    <tr>\n",
       "      <th>2</th>\n",
       "      <td>1</td>\n",
       "      <td>188.239668</td>\n",
       "      <td>96.584348</td>\n",
       "      <td>0</td>\n",
       "    </tr>\n",
       "    <tr>\n",
       "      <th>3</th>\n",
       "      <td>1</td>\n",
       "      <td>182.196685</td>\n",
       "      <td>99.899282</td>\n",
       "      <td>0</td>\n",
       "    </tr>\n",
       "    <tr>\n",
       "      <th>4</th>\n",
       "      <td>1</td>\n",
       "      <td>177.499762</td>\n",
       "      <td>93.682809</td>\n",
       "      <td>0</td>\n",
       "    </tr>\n",
       "  </tbody>\n",
       "</table>\n",
       "</div>"
      ],
      "text/plain": [
       "   IsMale      Height      Weight  IsHealthy\n",
       "0       1  187.571423  109.819678          0\n",
       "1       1  174.706036   73.688955          1\n",
       "2       1  188.239668   96.584348          0\n",
       "3       1  182.196685   99.899282          0\n",
       "4       1  177.499762   93.682809          0"
      ]
     },
     "metadata": {},
     "output_type": "display_data"
    },
    {
     "name": "stdout",
     "output_type": "stream",
     "text": [
      "The dimensions of this dataset are: (10000, 4)\n"
     ]
    }
   ],
   "source": [
    "# Loading the dataset:\n",
    "\n",
    "filepath = r'./Data/health_report.csv'\n",
    "df = pd.read_csv(filepath)\n",
    "display(df.head())\n",
    "print(f'The dimensions of this dataset are: {df.shape}')"
   ]
  },
  {
   "cell_type": "markdown",
   "metadata": {},
   "source": [
    "Having an initial look into the data, we can see that it has 10000 rows, where 5000 are Male Individuals and 5000 are Female Individuals:"
   ]
  },
  {
   "cell_type": "code",
   "execution_count": 38,
   "metadata": {},
   "outputs": [
    {
     "name": "stdout",
     "output_type": "stream",
     "text": [
      "The Male Individuals:\n"
     ]
    },
    {
     "data": {
      "text/html": [
       "<div>\n",
       "<style scoped>\n",
       "    .dataframe tbody tr th:only-of-type {\n",
       "        vertical-align: middle;\n",
       "    }\n",
       "\n",
       "    .dataframe tbody tr th {\n",
       "        vertical-align: top;\n",
       "    }\n",
       "\n",
       "    .dataframe thead th {\n",
       "        text-align: right;\n",
       "    }\n",
       "</style>\n",
       "<table border=\"1\" class=\"dataframe\">\n",
       "  <thead>\n",
       "    <tr style=\"text-align: right;\">\n",
       "      <th></th>\n",
       "      <th>IsMale</th>\n",
       "      <th>Height</th>\n",
       "      <th>Weight</th>\n",
       "      <th>IsHealthy</th>\n",
       "    </tr>\n",
       "  </thead>\n",
       "  <tbody>\n",
       "    <tr>\n",
       "      <th>0</th>\n",
       "      <td>1</td>\n",
       "      <td>187.571423</td>\n",
       "      <td>109.819678</td>\n",
       "      <td>0</td>\n",
       "    </tr>\n",
       "    <tr>\n",
       "      <th>1</th>\n",
       "      <td>1</td>\n",
       "      <td>174.706036</td>\n",
       "      <td>73.688955</td>\n",
       "      <td>1</td>\n",
       "    </tr>\n",
       "    <tr>\n",
       "      <th>2</th>\n",
       "      <td>1</td>\n",
       "      <td>188.239668</td>\n",
       "      <td>96.584348</td>\n",
       "      <td>0</td>\n",
       "    </tr>\n",
       "    <tr>\n",
       "      <th>3</th>\n",
       "      <td>1</td>\n",
       "      <td>182.196685</td>\n",
       "      <td>99.899282</td>\n",
       "      <td>0</td>\n",
       "    </tr>\n",
       "    <tr>\n",
       "      <th>4</th>\n",
       "      <td>1</td>\n",
       "      <td>177.499762</td>\n",
       "      <td>93.682809</td>\n",
       "      <td>0</td>\n",
       "    </tr>\n",
       "    <tr>\n",
       "      <th>...</th>\n",
       "      <td>...</td>\n",
       "      <td>...</td>\n",
       "      <td>...</td>\n",
       "      <td>...</td>\n",
       "    </tr>\n",
       "    <tr>\n",
       "      <th>9496</th>\n",
       "      <td>1</td>\n",
       "      <td>174.904559</td>\n",
       "      <td>80.417498</td>\n",
       "      <td>0</td>\n",
       "    </tr>\n",
       "    <tr>\n",
       "      <th>9497</th>\n",
       "      <td>1</td>\n",
       "      <td>175.192494</td>\n",
       "      <td>72.315494</td>\n",
       "      <td>1</td>\n",
       "    </tr>\n",
       "    <tr>\n",
       "      <th>9498</th>\n",
       "      <td>1</td>\n",
       "      <td>170.215039</td>\n",
       "      <td>90.434712</td>\n",
       "      <td>0</td>\n",
       "    </tr>\n",
       "    <tr>\n",
       "      <th>9499</th>\n",
       "      <td>1</td>\n",
       "      <td>181.756605</td>\n",
       "      <td>84.401283</td>\n",
       "      <td>0</td>\n",
       "    </tr>\n",
       "    <tr>\n",
       "      <th>9500</th>\n",
       "      <td>1</td>\n",
       "      <td>178.693775</td>\n",
       "      <td>90.301967</td>\n",
       "      <td>0</td>\n",
       "    </tr>\n",
       "  </tbody>\n",
       "</table>\n",
       "<p>5000 rows × 4 columns</p>\n",
       "</div>"
      ],
      "text/plain": [
       "      IsMale      Height      Weight  IsHealthy\n",
       "0          1  187.571423  109.819678          0\n",
       "1          1  174.706036   73.688955          1\n",
       "2          1  188.239668   96.584348          0\n",
       "3          1  182.196685   99.899282          0\n",
       "4          1  177.499762   93.682809          0\n",
       "...      ...         ...         ...        ...\n",
       "9496       1  174.904559   80.417498          0\n",
       "9497       1  175.192494   72.315494          1\n",
       "9498       1  170.215039   90.434712          0\n",
       "9499       1  181.756605   84.401283          0\n",
       "9500       1  178.693775   90.301967          0\n",
       "\n",
       "[5000 rows x 4 columns]"
      ]
     },
     "metadata": {},
     "output_type": "display_data"
    },
    {
     "name": "stdout",
     "output_type": "stream",
     "text": [
      "The Female Individuals:\n"
     ]
    },
    {
     "data": {
      "text/html": [
       "<div>\n",
       "<style scoped>\n",
       "    .dataframe tbody tr th:only-of-type {\n",
       "        vertical-align: middle;\n",
       "    }\n",
       "\n",
       "    .dataframe tbody tr th {\n",
       "        vertical-align: top;\n",
       "    }\n",
       "\n",
       "    .dataframe thead th {\n",
       "        text-align: right;\n",
       "    }\n",
       "</style>\n",
       "<table border=\"1\" class=\"dataframe\">\n",
       "  <thead>\n",
       "    <tr style=\"text-align: right;\">\n",
       "      <th></th>\n",
       "      <th>IsMale</th>\n",
       "      <th>Height</th>\n",
       "      <th>Weight</th>\n",
       "      <th>IsHealthy</th>\n",
       "    </tr>\n",
       "  </thead>\n",
       "  <tbody>\n",
       "    <tr>\n",
       "      <th>4498</th>\n",
       "      <td>0</td>\n",
       "      <td>168.484131</td>\n",
       "      <td>67.067466</td>\n",
       "      <td>1</td>\n",
       "    </tr>\n",
       "    <tr>\n",
       "      <th>4499</th>\n",
       "      <td>0</td>\n",
       "      <td>166.578186</td>\n",
       "      <td>65.167724</td>\n",
       "      <td>1</td>\n",
       "    </tr>\n",
       "    <tr>\n",
       "      <th>4500</th>\n",
       "      <td>0</td>\n",
       "      <td>163.425936</td>\n",
       "      <td>62.579848</td>\n",
       "      <td>1</td>\n",
       "    </tr>\n",
       "    <tr>\n",
       "      <th>4501</th>\n",
       "      <td>0</td>\n",
       "      <td>164.144347</td>\n",
       "      <td>67.611012</td>\n",
       "      <td>0</td>\n",
       "    </tr>\n",
       "    <tr>\n",
       "      <th>4502</th>\n",
       "      <td>0</td>\n",
       "      <td>165.547684</td>\n",
       "      <td>63.558342</td>\n",
       "      <td>1</td>\n",
       "    </tr>\n",
       "    <tr>\n",
       "      <th>...</th>\n",
       "      <td>...</td>\n",
       "      <td>...</td>\n",
       "      <td>...</td>\n",
       "      <td>...</td>\n",
       "    </tr>\n",
       "    <tr>\n",
       "      <th>9995</th>\n",
       "      <td>0</td>\n",
       "      <td>161.015140</td>\n",
       "      <td>65.398422</td>\n",
       "      <td>0</td>\n",
       "    </tr>\n",
       "    <tr>\n",
       "      <th>9996</th>\n",
       "      <td>0</td>\n",
       "      <td>158.719611</td>\n",
       "      <td>62.830804</td>\n",
       "      <td>1</td>\n",
       "    </tr>\n",
       "    <tr>\n",
       "      <th>9997</th>\n",
       "      <td>0</td>\n",
       "      <td>165.896759</td>\n",
       "      <td>62.143953</td>\n",
       "      <td>1</td>\n",
       "    </tr>\n",
       "    <tr>\n",
       "      <th>9998</th>\n",
       "      <td>0</td>\n",
       "      <td>166.144075</td>\n",
       "      <td>66.727593</td>\n",
       "      <td>1</td>\n",
       "    </tr>\n",
       "    <tr>\n",
       "      <th>9999</th>\n",
       "      <td>0</td>\n",
       "      <td>167.182860</td>\n",
       "      <td>70.797656</td>\n",
       "      <td>0</td>\n",
       "    </tr>\n",
       "  </tbody>\n",
       "</table>\n",
       "<p>5000 rows × 4 columns</p>\n",
       "</div>"
      ],
      "text/plain": [
       "      IsMale      Height     Weight  IsHealthy\n",
       "4498       0  168.484131  67.067466          1\n",
       "4499       0  166.578186  65.167724          1\n",
       "4500       0  163.425936  62.579848          1\n",
       "4501       0  164.144347  67.611012          0\n",
       "4502       0  165.547684  63.558342          1\n",
       "...      ...         ...        ...        ...\n",
       "9995       0  161.015140  65.398422          0\n",
       "9996       0  158.719611  62.830804          1\n",
       "9997       0  165.896759  62.143953          1\n",
       "9998       0  166.144075  66.727593          1\n",
       "9999       0  167.182860  70.797656          0\n",
       "\n",
       "[5000 rows x 4 columns]"
      ]
     },
     "metadata": {},
     "output_type": "display_data"
    }
   ],
   "source": [
    "print('The Male Individuals:')\n",
    "display(df[df['IsMale'] == 1])\n",
    "print('The Female Individuals:')\n",
    "display(df[df['IsMale'] != 1])"
   ]
  },
  {
   "cell_type": "markdown",
   "metadata": {},
   "source": [
    "To perform Logistic Regression,we import the `LogisticRegression()` function from the module `sklearn.linear_model`. Recall, we are using `Height` to predict whether the individual is a male or not, so we can carry out Feature Selection accordingly:"
   ]
  },
  {
   "cell_type": "code",
   "execution_count": 39,
   "metadata": {},
   "outputs": [
    {
     "name": "stdout",
     "output_type": "stream",
     "text": [
      "Accuracy Score: 0.8310\n"
     ]
    }
   ],
   "source": [
    "# Feature Selection and Train-Test Split\n",
    "X = df[['Height']]\n",
    "y = df['IsMale']\n",
    "X_train, X_test, y_train, y_test = train_test_split(X,y, test_size=0.2, random_state=123)\n",
    "\n",
    "# Initialise a Logistic Regression Model:\n",
    "LogisticRegressionModel = LogisticRegression()\n",
    "\n",
    "# Fit the LogisticRegressionModel to Train Data\n",
    "LogisticRegressionModel.fit(X_train, y_train)\n",
    "\n",
    "# Test the LogisticRegressionModel on Test Data\n",
    "y_pred = LogisticRegressionModel.predict(X_test)\n",
    "\n",
    "# Evaluating the performance of LogisticRegressionModel\n",
    "acc = accuracy_score(y_test,y_pred)\n",
    "print(f'Accuracy Score: {acc:.4f}')"
   ]
  },
  {
   "cell_type": "markdown",
   "metadata": {},
   "source": [
    "In the above Logistic Regression, the predicted probability has the following functional form:\n",
    "\n",
    "$$\n",
    "\\hat{y} = sigmoid(\\beta_{0} + \\beta_{1}x)\n",
    "$$\n",
    "- $\\hat{y}$ is the *probability of being male*\n",
    "- $x$ is the single feature in our model used for prediction: `Height`\n",
    "- Once fitted, the model *learns the optimal values* for the coefficients $\\beta_{0}$ and $\\beta_{1}$\n",
    "- We can retrieve the optimal coefficient values via the `.intercept_` and `.coef_` attributes:\n"
   ]
  },
  {
   "cell_type": "code",
   "execution_count": 40,
   "metadata": {},
   "outputs": [
    {
     "name": "stdout",
     "output_type": "stream",
     "text": [
      "beta_0: -45.141183561795366, beta_1: 0.2679979851436471\n",
      "Linear Regression returns 5.778433615497583\n",
      "Logistic Regression returns 0.9969159832671857\n"
     ]
    }
   ],
   "source": [
    "# Retrieving the optimal values for the coefficients\n",
    "beta_0 = LogisticRegressionModel.intercept_[0]\n",
    "beta_1 = LogisticRegressionModel.coef_[0][0]\n",
    "print(f'beta_0: {beta_0}, beta_1: {beta_1}')\n",
    "\n",
    "# Comparing a Linear Prediction vs Logistic Regression Prediction:\n",
    "# Suppose we have a new observation with height -190 cm\n",
    "print(f'Linear Regression returns {beta_0 + beta_1*190}')\n",
    "print(f'Logistic Regression returns {sigmoid(beta_0 + beta_1*190)}')"
   ]
  },
  {
   "cell_type": "markdown",
   "metadata": {},
   "source": [
    "- The Sigmoid function returns a **0.9969 probability of being male**\n",
    "- If we feed the new observation straight into a `model.predict()` we will see a prediction that is already *classified as 0 or 1*. On this case, it will be 1\n",
    "- To obtain the *prediction probability*, we use the `.predict_proba()` method to check that it also produces 0.9969 as expected:"
   ]
  },
  {
   "cell_type": "code",
   "execution_count": 41,
   "metadata": {},
   "outputs": [
    {
     "name": "stdout",
     "output_type": "stream",
     "text": [
      "The class prediction for the new observation is: [1]\n",
      "The predicted probability for the new observation is [[0.00308402 0.99691598]]\n"
     ]
    }
   ],
   "source": [
    "# Storing the new observation as a dataframe:\n",
    "new_observation = pd.DataFrame({'Height':[190]})\n",
    "\n",
    "# Displaying the predicted class by the Logistic Regression:\n",
    "print(f'The class prediction for the new observation is: {LogisticRegressionModel.predict(new_observation)}')\n",
    "\n",
    "# Display the predicted probability of a positive outcome by the Logistic Regression\n",
    "# .predict_proba() returns 2 probabilities - of a negative outcome, and of a positive outcome\n",
    "print(f'The predicted probability for the new observation is {LogisticRegressionModel.predict_proba(new_observation)}')\n"
   ]
  },
  {
   "cell_type": "markdown",
   "metadata": {},
   "source": [
    "We can visualise the predicted probabilities obtained through the `.predict_proba()` method:"
   ]
  },
  {
   "cell_type": "code",
   "execution_count": 42,
   "metadata": {},
   "outputs": [
    {
     "data": {
      "text/html": [
       "<div>\n",
       "<style scoped>\n",
       "    .dataframe tbody tr th:only-of-type {\n",
       "        vertical-align: middle;\n",
       "    }\n",
       "\n",
       "    .dataframe tbody tr th {\n",
       "        vertical-align: top;\n",
       "    }\n",
       "\n",
       "    .dataframe thead th {\n",
       "        text-align: right;\n",
       "    }\n",
       "</style>\n",
       "<table border=\"1\" class=\"dataframe\">\n",
       "  <thead>\n",
       "    <tr style=\"text-align: right;\">\n",
       "      <th></th>\n",
       "      <th>0</th>\n",
       "      <th>1</th>\n",
       "    </tr>\n",
       "  </thead>\n",
       "  <tbody>\n",
       "    <tr>\n",
       "      <th>0</th>\n",
       "      <td>0.009242</td>\n",
       "      <td>0.990758</td>\n",
       "    </tr>\n",
       "    <tr>\n",
       "      <th>1</th>\n",
       "      <td>0.029754</td>\n",
       "      <td>0.970246</td>\n",
       "    </tr>\n",
       "    <tr>\n",
       "      <th>2</th>\n",
       "      <td>0.955964</td>\n",
       "      <td>0.044036</td>\n",
       "    </tr>\n",
       "    <tr>\n",
       "      <th>3</th>\n",
       "      <td>0.458874</td>\n",
       "      <td>0.541126</td>\n",
       "    </tr>\n",
       "    <tr>\n",
       "      <th>4</th>\n",
       "      <td>0.038652</td>\n",
       "      <td>0.961348</td>\n",
       "    </tr>\n",
       "    <tr>\n",
       "      <th>...</th>\n",
       "      <td>...</td>\n",
       "      <td>...</td>\n",
       "    </tr>\n",
       "    <tr>\n",
       "      <th>1995</th>\n",
       "      <td>0.734227</td>\n",
       "      <td>0.265773</td>\n",
       "    </tr>\n",
       "    <tr>\n",
       "      <th>1996</th>\n",
       "      <td>0.983616</td>\n",
       "      <td>0.016384</td>\n",
       "    </tr>\n",
       "    <tr>\n",
       "      <th>1997</th>\n",
       "      <td>0.615210</td>\n",
       "      <td>0.384790</td>\n",
       "    </tr>\n",
       "    <tr>\n",
       "      <th>1998</th>\n",
       "      <td>0.925920</td>\n",
       "      <td>0.074080</td>\n",
       "    </tr>\n",
       "    <tr>\n",
       "      <th>1999</th>\n",
       "      <td>0.571263</td>\n",
       "      <td>0.428737</td>\n",
       "    </tr>\n",
       "  </tbody>\n",
       "</table>\n",
       "<p>2000 rows × 2 columns</p>\n",
       "</div>"
      ],
      "text/plain": [
       "             0         1\n",
       "0     0.009242  0.990758\n",
       "1     0.029754  0.970246\n",
       "2     0.955964  0.044036\n",
       "3     0.458874  0.541126\n",
       "4     0.038652  0.961348\n",
       "...        ...       ...\n",
       "1995  0.734227  0.265773\n",
       "1996  0.983616  0.016384\n",
       "1997  0.615210  0.384790\n",
       "1998  0.925920  0.074080\n",
       "1999  0.571263  0.428737\n",
       "\n",
       "[2000 rows x 2 columns]"
      ]
     },
     "metadata": {},
     "output_type": "display_data"
    }
   ],
   "source": [
    "y_pred_proba = LogisticRegressionModel.predict_proba(X_test)\n",
    "y_pred_proba_DF = pd.DataFrame(y_pred_proba)\n",
    "display(y_pred_proba_DF)"
   ]
  },
  {
   "cell_type": "markdown",
   "metadata": {},
   "source": [
    "We can evaluate the performance of the Logistic Regression Model using the following performance metrics:\n",
    "- Accuracy Score\n",
    "- Precision Score\n",
    "- Recall Score\n",
    "- F1-Score\n",
    "- ROC-AUC Score"
   ]
  },
  {
   "cell_type": "code",
   "execution_count": 43,
   "metadata": {},
   "outputs": [
    {
     "name": "stdout",
     "output_type": "stream",
     "text": [
      "Accuracy Score: 0.8310\n",
      "Precision is 0.8246305418719212\n",
      "Recall is 0.839518555667001\n",
      "F1 score is 0.8320079522862823\n",
      "ROC AUC is 0.831025479229313\n"
     ]
    }
   ],
   "source": [
    "# Evaluate performance\n",
    "AccuracyScore = accuracy_score(y_test,y_pred)\n",
    "PrecisionScore = precision_score(y_test, y_pred)\n",
    "RecallScore = recall_score(y_test, y_pred)\n",
    "F1Score = f1_score(y_test, y_pred)\n",
    "ROC_AUC_SCORE = roc_auc_score(y_test, y_pred)\n",
    "\n",
    "print(f'Accuracy Score: {AccuracyScore:.4f}')\n",
    "print(f'Precision is {PrecisionScore}')\n",
    "print(f'Recall is {RecallScore}')\n",
    "print(f'F1 score is {F1Score}')\n",
    "print(f'ROC AUC is {ROC_AUC_SCORE}')"
   ]
  },
  {
   "cell_type": "code",
   "execution_count": 44,
   "metadata": {},
   "outputs": [
    {
     "data": {
      "image/png": "[encoded data removed]",
      "text/plain": [
       "<Figure size 432x288 with 2 Axes>"
      ]
     },
     "metadata": {
      "needs_background": "light"
     },
     "output_type": "display_data"
    }
   ],
   "source": [
    "# Plotting the Confusion Matrix\n",
    "\n",
    "fig, ax = plt.subplots()\n",
    "g1=ConfusionMatrixDisplay.from_predictions(y_test, y_pred, ax = ax, cmap = 'BuGn')"
   ]
  },
  {
   "cell_type": "code",
   "execution_count": 45,
   "metadata": {},
   "outputs": [
    {
     "data": {
      "image/png": "[encoded data removed]",
      "text/plain": [
       "<Figure size 432x288 with 1 Axes>"
      ]
     },
     "metadata": {
      "needs_background": "light"
     },
     "output_type": "display_data"
    }
   ],
   "source": [
    "# Plotting the ROC-AUC curve:\n",
    "\n",
    "fpr, tpr, thresh = roc_curve(y_test, y_pred_proba_DF[1])\n",
    "g2 = sns.lineplot(x = fpr, y= tpr, color = '#67B587')\n",
    "g2.set_title('ROC - AUC')\n",
    "sns.despine()\n",
    "plt.show()"
   ]
  },
  {
   "cell_type": "markdown",
   "metadata": {},
   "source": [
    "We can further incorporate some *Feature Engineering* and see if we can use another feature to predict the `IsHealthy` target variable. We can devise a new feature `BMI` which combines the features `Height` and `Weight` in the following way: \n",
    "\n",
    "$$\n",
    "BMI = \\frac{weight}{height^2} \\text{ for weight in kg and height in metres}\n",
    "$$\n",
    "\n",
    "We can visualise the relationship `BMI` has with `IsHealthy` using a scatterplot like the following:"
   ]
  },
  {
   "cell_type": "code",
   "execution_count": 46,
   "metadata": {},
   "outputs": [
    {
     "data": {
      "image/png": "[encoded data removed]",
      "text/plain": [
       "<Figure size 432x288 with 1 Axes>"
      ]
     },
     "metadata": {
      "needs_background": "light"
     },
     "output_type": "display_data"
    }
   ],
   "source": [
    "# Feature Engineering the `BMI` column\n",
    "df['BMI'] = (df['Weight']*10000)/(df['Height']**2)\n",
    "\n",
    "# With Seaborn, visualise BMI vs IsHealthy in the form of a Scatterplot\n",
    "hue_colours = {0:'#FF8181', 1: '#67B587'}\n",
    "g = sns.scatterplot(x = 'BMI', y = 'IsHealthy', data = df, color = '#67B587', hue = 'IsHealthy', palette=hue_colours)\n",
    "g.set_title('BMI - Health Scatterplot')\n",
    "sns.despine()\n",
    "plt.show()\n"
   ]
  },
  {
   "cell_type": "markdown",
   "metadata": {},
   "source": [
    "##### Conclusion: \n",
    "From the visualisation, we can conclude that the relationship between health status and BMI is non-linear and we can say that *Healthy* individuals are associated with a BMI within the range of **18.5 - 25**"
   ]
  },
  {
   "cell_type": "markdown",
   "metadata": {},
   "source": [
    "---\n",
    "Similar to above, we now train a Logistic Regression Model that tries to predict `IsHealthy` by the new `BMI` feature. We carry out the Fit-Predict Workflow and assess model performance:"
   ]
  },
  {
   "cell_type": "code",
   "execution_count": 47,
   "metadata": {},
   "outputs": [
    {
     "name": "stdout",
     "output_type": "stream",
     "text": [
      "Accuracy Score: 0.9890\n",
      "Precision is 0.9925650557620818\n",
      "Recall is 0.9804161566707467\n",
      "F1 score is 0.9864532019704434\n",
      "ROC AUC is 0.9876721527225245\n"
     ]
    },
    {
     "data": {
      "image/png": "[encoded data removed]",
      "text/plain": [
       "<Figure size 432x288 with 2 Axes>"
      ]
     },
     "metadata": {
      "needs_background": "light"
     },
     "output_type": "display_data"
    }
   ],
   "source": [
    "# Feature Selection and Train/Test Split\n",
    "X = df[['BMI']]\n",
    "y = df['IsHealthy']\n",
    "X_train, X_test, y_train, y_test = train_test_split(X,y, test_size=0.2, random_state=123)\n",
    "\n",
    "# Initialise a Logistic Regression Model\n",
    "LogisticRegressionModel2 = LogisticRegression()\n",
    "\n",
    "# Fit Model to Training Data\n",
    "LogisticRegressionModel2.fit(X_train, y_train)\n",
    "\n",
    "# Make Predictions on Test Data\n",
    "y_pred = LogisticRegressionModel2.predict(X_test)\n",
    "\n",
    "# Evaluate performance\n",
    "AccuracyScore2 = accuracy_score(y_test,y_pred)\n",
    "PrecisionScore2 = precision_score(y_test, y_pred)\n",
    "RecallScore2 = recall_score(y_test, y_pred)\n",
    "F1Score2 = f1_score(y_test, y_pred)\n",
    "ROC_AUC_SCORE2 = roc_auc_score(y_test, y_pred)\n",
    "\n",
    "print(f'Accuracy Score: {AccuracyScore2:.4f}')\n",
    "print(f'Precision is {PrecisionScore2}')\n",
    "print(f'Recall is {RecallScore2}')\n",
    "print(f'F1 score is {F1Score2}')\n",
    "print(f'ROC AUC is {ROC_AUC_SCORE2}')\n",
    "\n",
    "# Plotting the Confusion Matrix\n",
    "fig, ax = plt.subplots()\n",
    "g3=ConfusionMatrixDisplay.from_predictions( y_test, y_pred, ax = ax, cmap = 'BuGn')"
   ]
  },
  {
   "cell_type": "code",
   "execution_count": 48,
   "metadata": {},
   "outputs": [
    {
     "data": {
      "image/png": "[encoded data removed]",
      "text/plain": [
       "<Figure size 432x288 with 1 Axes>"
      ]
     },
     "metadata": {
      "needs_background": "light"
     },
     "output_type": "display_data"
    }
   ],
   "source": [
    "# Plotting the ROC-AUC curve:\n",
    "\n",
    "y_pred_proba_2 = LogisticRegressionModel2.predict_proba(X_test)\n",
    "y_pred_proba_DF2 = pd.DataFrame(y_pred_proba_2)\n",
    "\n",
    "fpr, tpr, thresh = roc_curve(y_test, y_pred_proba_DF2[1])\n",
    "g4 = sns.lineplot(x = fpr, y= tpr)\n",
    "g4.set_title('ROC - AUC')\n",
    "sns.despine()\n",
    "plt.show()"
   ]
  },
  {
   "cell_type": "markdown",
   "metadata": {},
   "source": [
    "##### Conclusion: \n",
    "The model performs surprisingly well with very high Precision and Recall and almost maximum ROC-AUC. The model, however, misclassified several individuals. Given the domain of the classification problem, identifying the non-healthy individuals, we would like to minimise the False Positives (i.e., non-healthy individuals flagged as healthy by the model) which in turn means that we want to maximise the **Precision Score**."
   ]
  },
  {
   "cell_type": "markdown",
   "metadata": {},
   "source": [
    "---\n",
    "### Health Report - Decision Tree: \n",
    "We can also train a **Decision Tree Classifier**, trying to predict **IsHealthy** by the new feature: **BMI** to see how well it performs in comparison to Logistic Regression:"
   ]
  },
  {
   "cell_type": "code",
   "execution_count": 49,
   "metadata": {},
   "outputs": [
    {
     "name": "stdout",
     "output_type": "stream",
     "text": [
      "Accuracy Score: 1.0000\n",
      "Precision is 1.0\n",
      "Recall is 1.0\n",
      "F1 score is 1.0\n",
      "ROC AUC is 1.0\n"
     ]
    },
    {
     "data": {
      "image/png": "[encoded data removed]",
      "text/plain": [
       "<Figure size 432x288 with 2 Axes>"
      ]
     },
     "metadata": {
      "needs_background": "light"
     },
     "output_type": "display_data"
    },
    {
     "data": {
      "image/png": "[encoded data removed]",
      "text/plain": [
       "<Figure size 1152x1152 with 1 Axes>"
      ]
     },
     "metadata": {
      "needs_background": "light"
     },
     "output_type": "display_data"
    }
   ],
   "source": [
    "# Feature Selection and Train/Test Split\n",
    "X = df[['BMI']]\n",
    "y = df['IsHealthy']\n",
    "X_train, X_test, y_train, y_test = train_test_split(X,y, test_size=0.2, random_state=123)\n",
    "\n",
    "# Initialise a Decision Tree Classifier Model\n",
    "DecisionTreeClassifierModel = DecisionTreeClassifier(max_depth=3)\n",
    "\n",
    "# Fit the Model to Training Data\n",
    "DecisionTreeClassifierModel.fit(X_train, y_train)\n",
    "\n",
    "# Make Predictions on Test Data\n",
    "y_pred = DecisionTreeClassifierModel.predict(X_test)\n",
    "\n",
    "# Evaluate performance\n",
    "AccuracyScore_DecisionTree = accuracy_score(y_test,y_pred)\n",
    "PrecisionScore_DecisionTree = precision_score(y_test, y_pred)\n",
    "RecallScore_DecisionTree = recall_score(y_test, y_pred)\n",
    "F1Score_DecisionTree = f1_score(y_test, y_pred)\n",
    "ROC_AUC_SCORE_DecisionTree = roc_auc_score(y_test, y_pred)\n",
    "\n",
    "print(f'Accuracy Score: {AccuracyScore_DecisionTree:.4f}')\n",
    "print(f'Precision is {PrecisionScore_DecisionTree}')\n",
    "print(f'Recall is {RecallScore_DecisionTree}')\n",
    "print(f'F1 score is {F1Score_DecisionTree}')\n",
    "print(f'ROC AUC is {ROC_AUC_SCORE_DecisionTree}')\n",
    "\n",
    "\n",
    "# Plotting the Confusion Matrix\n",
    "fig, ax = plt.subplots()\n",
    "g=ConfusionMatrixDisplay.from_predictions( y_test, y_pred, ax = ax, cmap = 'BuGn')\n",
    "\n",
    "# Plotting the Decision Tree to explore conditions\n",
    "fig, ax = plt.subplots(figsize = (16,16))\n",
    "plot_tree(DecisionTreeClassifierModel, ax=ax)\n",
    "plt.show()\n"
   ]
  },
  {
   "cell_type": "markdown",
   "metadata": {},
   "source": [
    "##### Conclusion: \n",
    "The Decision Tree is a *Perfect Classifier* with all metrics scoring 1 meaning that there are no misclassifications (neither FP nor FN). This confirms our initial observation that BMI and Health have a non-linear relationship. The plotted tree indicates the same cut-off values for BMI as the ones on the scatterplot: **18.5** and **25**\n",
    "\n",
    "We note here that due to the *simplicity* of the dataset, both ML models performed extremely well and in reality, Precision, Recall and AUC scores around 1 are ***highly unlikely***."
   ]
  }
 ],
 "metadata": {
  "kernelspec": {
   "display_name": "Python 3",
   "language": "python",
   "name": "python3"
  },
  "language_info": {
   "codemirror_mode": {
    "name": "ipython",
    "version": 3
   },
   "file_extension": ".py",
   "mimetype": "text/x-python",
   "name": "python",
   "nbconvert_exporter": "python",
   "pygments_lexer": "ipython3",
   "version": "3.10.8"
  }
 },
 "nbformat": 4,
 "nbformat_minor": 2
}
